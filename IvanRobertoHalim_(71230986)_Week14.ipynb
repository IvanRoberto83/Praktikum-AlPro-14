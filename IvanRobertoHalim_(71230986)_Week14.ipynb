{
  "nbformat": 4,
  "nbformat_minor": 0,
  "metadata": {
    "colab": {
      "provenance": []
    },
    "kernelspec": {
      "name": "python3",
      "display_name": "Python 3"
    },
    "language_info": {
      "name": "python"
    }
  },
  "cells": [
    {
      "cell_type": "code",
      "execution_count": 1,
      "metadata": {
        "colab": {
          "base_uri": "https://localhost:8080/"
        },
        "id": "MDZZV9PbfHIC",
        "outputId": "4e314e17-e893-4d58-f8da-ae7265e4e409"
      },
      "outputs": [
        {
          "output_type": "stream",
          "name": "stdout",
          "text": [
            "Masukkan angka : 7\n",
            "7 = Bilangan Prima\n"
          ]
        }
      ],
      "source": [
        "#Soal 1\n",
        "\n",
        "def bilangan_prima(n,pembagi=2):\n",
        "    if n < 2:\n",
        "        return False\n",
        "    if pembagi == n:\n",
        "        return True\n",
        "    elif n % pembagi == 0:\n",
        "        return False\n",
        "    else:\n",
        "        return bilangan_prima(n,pembagi+1)\n",
        "\n",
        "x = int(input(\"Masukkan angka : \"))\n",
        "if bilangan_prima(x):\n",
        "    print(f\"{x} = Bilangan Prima\")\n",
        "else:\n",
        "    print(f\"{x} = Bukan Bilangan Prima\")"
      ]
    },
    {
      "cell_type": "code",
      "source": [
        "#Soal 2\n",
        "\n",
        "def palindrom(x):\n",
        "    x = x.strip(\".,?! -\").lower()\n",
        "    if len(x) <= 1:\n",
        "        return True\n",
        "    elif x[0] != x[-1]:\n",
        "        return False\n",
        "    else:\n",
        "        return palindrom(x[1:-1])\n",
        "\n",
        "kalimat = input(\"Masukkan kalimat : \")\n",
        "if palindrom(kalimat):\n",
        "    print(\"Kalimat tersebut adalah palindrom\")\n",
        "else:\n",
        "    print(\"Kalimat tersebut bukan palindrom\")"
      ],
      "metadata": {
        "colab": {
          "base_uri": "https://localhost:8080/"
        },
        "id": "V22plf8RfRfE",
        "outputId": "3dead663-97b3-48f4-8102-f2d73fde2dfc"
      },
      "execution_count": 2,
      "outputs": [
        {
          "output_type": "stream",
          "name": "stdout",
          "text": [
            "Masukkan kalimat : Kasur Rusak.\n",
            "Kalimat tersebut adalah palindrom\n"
          ]
        }
      ]
    },
    {
      "cell_type": "code",
      "source": [
        "#Soal 3\n",
        "\n",
        "def jumlah_deret_ganjil(n):\n",
        "    if n == 1:\n",
        "        return 1\n",
        "    elif n % 2 != 0:\n",
        "        return n + jumlah_deret_ganjil(n - 2)\n",
        "    else:\n",
        "        return jumlah_deret_ganjil(n - 1)\n",
        "\n",
        "x = int(input(\"Masukkan angka : \"))\n",
        "print(f\"Jumlah deret ganjil dari 1 sampai {x} = {jumlah_deret_ganjil(x)}\")"
      ],
      "metadata": {
        "colab": {
          "base_uri": "https://localhost:8080/"
        },
        "id": "4wVi3wOifYn4",
        "outputId": "d1ba325d-e8fc-45ca-cf5a-64b264676ff1"
      },
      "execution_count": 3,
      "outputs": [
        {
          "output_type": "stream",
          "name": "stdout",
          "text": [
            "Masukkan angka : 6\n",
            "Jumlah deret ganjil dari 1 sampai 6 = 9\n"
          ]
        }
      ]
    },
    {
      "cell_type": "code",
      "source": [
        "#Soal 4\n",
        "\n",
        "def jumlah_digit(n):\n",
        "    if n < 10:\n",
        "        return n\n",
        "    else:\n",
        "        return n % 10 + jumlah_digit(n // 10)\n",
        "\n",
        "x = int(input(\"Masukkan angka : \"))\n",
        "print(f\"Jumlah digit dari angka {x} adalah {jumlah_digit(x)}\")"
      ],
      "metadata": {
        "colab": {
          "base_uri": "https://localhost:8080/"
        },
        "id": "-A24_Pp4fkLb",
        "outputId": "f7e78acc-f45f-4902-f0b0-502834a426f8"
      },
      "execution_count": 4,
      "outputs": [
        {
          "output_type": "stream",
          "name": "stdout",
          "text": [
            "Masukkan angka : 234\n",
            "Jumlah digit dari angka 234 adalah 9\n"
          ]
        }
      ]
    },
    {
      "cell_type": "code",
      "source": [
        "#Soal 5\n",
        "\n",
        "def kombinasi(n, r):\n",
        "    if r == 0 or r == n:\n",
        "        return 1\n",
        "    else:\n",
        "        return kombinasi(n - 1, r - 1) + kombinasi(n - 1, r)\n",
        "\n",
        "n = int(input(\"Masukkan n : \"))\n",
        "r = int(input(\"Masukkan r : \"))\n",
        "print(f\"{n} Kombinasi {r} adalah {kombinasi(n,r)}\")"
      ],
      "metadata": {
        "colab": {
          "base_uri": "https://localhost:8080/"
        },
        "id": "YX1sxAs6fugB",
        "outputId": "6d44c201-ffb7-4ed2-b4eb-c7089659ee1c"
      },
      "execution_count": 5,
      "outputs": [
        {
          "output_type": "stream",
          "name": "stdout",
          "text": [
            "Masukkan n : 6\n",
            "Masukkan r : 3\n",
            "6 Kombinasi 3 adalah 20\n"
          ]
        }
      ]
    }
  ]
}